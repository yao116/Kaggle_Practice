{
 "cells": [
  {
   "cell_type": "markdown",
   "metadata": {},
   "source": [
    "Data:Data：https://archive.ics.uci.edu/ml/machine-learning-databases/housing/housing.data; Tutorial:https://www.bilibili.com/video/BV1iJ41127cw?p=3"
   ]
  },
  {
   "cell_type": "code",
   "execution_count": 1,
   "metadata": {},
   "outputs": [],
   "source": [
    "import pandas as pd\n",
    "import numpy as np\n",
    "\n",
    "import matplotlib.pyplot as plt\n",
    "%matplotlib inline\n",
    "\n",
    "from sklearn.model_selection import train_test_split\n",
    "from sklearn.linear_model import LinearRegression\n",
    "from sklearn import metrics\n",
    "\n",
    "import warnings\n",
    "warnings.filterwarnings('ignore')"
   ]
  },
  {
   "cell_type": "code",
   "execution_count": 2,
   "metadata": {},
   "outputs": [
    {
     "data": {
      "text/html": [
       "<div>\n",
       "<style scoped>\n",
       "    .dataframe tbody tr th:only-of-type {\n",
       "        vertical-align: middle;\n",
       "    }\n",
       "\n",
       "    .dataframe tbody tr th {\n",
       "        vertical-align: top;\n",
       "    }\n",
       "\n",
       "    .dataframe thead th {\n",
       "        text-align: right;\n",
       "    }\n",
       "</style>\n",
       "<table border=\"1\" class=\"dataframe\">\n",
       "  <thead>\n",
       "    <tr style=\"text-align: right;\">\n",
       "      <th></th>\n",
       "      <th>CRIM</th>\n",
       "      <th>ZN</th>\n",
       "      <th>INDUS</th>\n",
       "      <th>CHAS</th>\n",
       "      <th>NOX</th>\n",
       "      <th>RM</th>\n",
       "      <th>AGE</th>\n",
       "      <th>DIS</th>\n",
       "      <th>RAD</th>\n",
       "      <th>TAX</th>\n",
       "      <th>PIRATIO</th>\n",
       "      <th>B</th>\n",
       "      <th>LSTAT</th>\n",
       "      <th>MEDV</th>\n",
       "    </tr>\n",
       "  </thead>\n",
       "  <tbody>\n",
       "    <tr>\n",
       "      <th>501</th>\n",
       "      <td>0.06263</td>\n",
       "      <td>0.0</td>\n",
       "      <td>11.93</td>\n",
       "      <td>0</td>\n",
       "      <td>0.573</td>\n",
       "      <td>6.593</td>\n",
       "      <td>69.1</td>\n",
       "      <td>2.4786</td>\n",
       "      <td>1</td>\n",
       "      <td>273.0</td>\n",
       "      <td>21.0</td>\n",
       "      <td>391.99</td>\n",
       "      <td>9.67</td>\n",
       "      <td>22.4</td>\n",
       "    </tr>\n",
       "    <tr>\n",
       "      <th>502</th>\n",
       "      <td>0.04527</td>\n",
       "      <td>0.0</td>\n",
       "      <td>11.93</td>\n",
       "      <td>0</td>\n",
       "      <td>0.573</td>\n",
       "      <td>6.120</td>\n",
       "      <td>76.7</td>\n",
       "      <td>2.2875</td>\n",
       "      <td>1</td>\n",
       "      <td>273.0</td>\n",
       "      <td>21.0</td>\n",
       "      <td>396.90</td>\n",
       "      <td>9.08</td>\n",
       "      <td>20.6</td>\n",
       "    </tr>\n",
       "    <tr>\n",
       "      <th>503</th>\n",
       "      <td>0.06076</td>\n",
       "      <td>0.0</td>\n",
       "      <td>11.93</td>\n",
       "      <td>0</td>\n",
       "      <td>0.573</td>\n",
       "      <td>6.976</td>\n",
       "      <td>91.0</td>\n",
       "      <td>2.1675</td>\n",
       "      <td>1</td>\n",
       "      <td>273.0</td>\n",
       "      <td>21.0</td>\n",
       "      <td>396.90</td>\n",
       "      <td>5.64</td>\n",
       "      <td>23.9</td>\n",
       "    </tr>\n",
       "    <tr>\n",
       "      <th>504</th>\n",
       "      <td>0.10959</td>\n",
       "      <td>0.0</td>\n",
       "      <td>11.93</td>\n",
       "      <td>0</td>\n",
       "      <td>0.573</td>\n",
       "      <td>6.794</td>\n",
       "      <td>89.3</td>\n",
       "      <td>2.3889</td>\n",
       "      <td>1</td>\n",
       "      <td>273.0</td>\n",
       "      <td>21.0</td>\n",
       "      <td>393.45</td>\n",
       "      <td>6.48</td>\n",
       "      <td>22.0</td>\n",
       "    </tr>\n",
       "    <tr>\n",
       "      <th>505</th>\n",
       "      <td>0.04741</td>\n",
       "      <td>0.0</td>\n",
       "      <td>11.93</td>\n",
       "      <td>0</td>\n",
       "      <td>0.573</td>\n",
       "      <td>6.030</td>\n",
       "      <td>80.8</td>\n",
       "      <td>2.5050</td>\n",
       "      <td>1</td>\n",
       "      <td>273.0</td>\n",
       "      <td>21.0</td>\n",
       "      <td>396.90</td>\n",
       "      <td>7.88</td>\n",
       "      <td>11.9</td>\n",
       "    </tr>\n",
       "  </tbody>\n",
       "</table>\n",
       "</div>"
      ],
      "text/plain": [
       "        CRIM   ZN  INDUS  CHAS    NOX     RM   AGE     DIS  RAD    TAX  \\\n",
       "501  0.06263  0.0  11.93     0  0.573  6.593  69.1  2.4786    1  273.0   \n",
       "502  0.04527  0.0  11.93     0  0.573  6.120  76.7  2.2875    1  273.0   \n",
       "503  0.06076  0.0  11.93     0  0.573  6.976  91.0  2.1675    1  273.0   \n",
       "504  0.10959  0.0  11.93     0  0.573  6.794  89.3  2.3889    1  273.0   \n",
       "505  0.04741  0.0  11.93     0  0.573  6.030  80.8  2.5050    1  273.0   \n",
       "\n",
       "     PIRATIO       B  LSTAT  MEDV  \n",
       "501     21.0  391.99   9.67  22.4  \n",
       "502     21.0  396.90   9.08  20.6  \n",
       "503     21.0  396.90   5.64  23.9  \n",
       "504     21.0  393.45   6.48  22.0  \n",
       "505     21.0  396.90   7.88  11.9  "
      ]
     },
     "execution_count": 2,
     "metadata": {},
     "output_type": "execute_result"
    }
   ],
   "source": [
    "df = pd.read_csv('housing.csv')\n",
    "df.tail()"
   ]
  },
  {
   "cell_type": "code",
   "execution_count": 3,
   "metadata": {},
   "outputs": [],
   "source": [
    "X = df.drop(['MEDV'],axis=1)\n",
    "y = df['MEDV']"
   ]
  },
  {
   "cell_type": "code",
   "execution_count": 21,
   "metadata": {},
   "outputs": [],
   "source": [
    "X_train,X_test,y_train,y_test = train_test_split(X,y,random_state=1)"
   ]
  },
  {
   "cell_type": "code",
   "execution_count": 22,
   "metadata": {},
   "outputs": [],
   "source": [
    "model = LinearRegression()"
   ]
  },
  {
   "cell_type": "code",
   "execution_count": 23,
   "metadata": {},
   "outputs": [
    {
     "data": {
      "text/plain": [
       "LinearRegression()"
      ]
     },
     "execution_count": 23,
     "metadata": {},
     "output_type": "execute_result"
    }
   ],
   "source": [
    "model.fit(X_train,y_train)"
   ]
  },
  {
   "cell_type": "code",
   "execution_count": 24,
   "metadata": {},
   "outputs": [],
   "source": [
    "y_pred_class=model.predict(X_test)"
   ]
  },
  {
   "cell_type": "code",
   "execution_count": 25,
   "metadata": {},
   "outputs": [
    {
     "data": {
      "text/plain": [
       "array([32.37816533, 27.95684437, 18.07213891, 21.63166556, 18.93029508,\n",
       "       19.96277202, 32.2834674 , 18.06715668, 24.72989076, 26.85359369,\n",
       "       27.23326816, 28.57021239, 21.18778302, 26.94393815, 23.37892579,\n",
       "       20.89176865, 17.11746934, 37.73997945, 30.51980066,  8.44489436,\n",
       "       20.86557977, 16.21989418, 25.13605925, 24.77658813, 31.40497629,\n",
       "       11.02741407, 13.82097563, 16.80208261, 35.94637198, 14.7155729 ,\n",
       "       21.23939821, 14.15079469, 42.72492585, 17.83887162, 21.84610225,\n",
       "       20.40178099, 17.50287927, 27.00093206,  9.80760408, 20.00288662,\n",
       "       24.27066782, 21.06719021, 29.47089776, 16.48482565, 19.38852695,\n",
       "       14.54778282, 39.39838319, 18.09810655, 26.22164983, 20.60676525,\n",
       "       25.09994066, 24.48366723, 25.02297948, 26.84986898,  5.01517985,\n",
       "       24.12809513, 10.72843392, 26.83178157, 16.8023533 , 35.48142073,\n",
       "       19.50937911, 27.43260347, 16.58016763, 19.151488  , 10.9990262 ,\n",
       "       32.05016535, 36.32672849, 21.8596379 , 24.8158357 , 25.32934192,\n",
       "       23.36795453,  6.98356201, 16.83774771, 20.27043864, 20.74890857,\n",
       "       21.85918305, 34.17775836, 27.94673486, 24.86029952, 34.43415796,\n",
       "       18.61651831, 24.02302532, 34.45439496, 13.32264718, 20.7154011 ,\n",
       "       30.1583435 , 17.06611728, 24.20119805, 19.18051951, 16.98160423,\n",
       "       26.8073424 , 41.02666829, 14.44767989, 23.26993252, 14.93803206,\n",
       "       21.93017824, 22.81878103, 29.16467031, 36.7033389 , 20.41387117,\n",
       "       17.86800518, 17.49942601, 25.07246443, 21.9827349 ,  8.28652561,\n",
       "       21.52177032, 16.50788716, 33.00114509, 24.49693379, 25.08491201,\n",
       "       38.29621948, 28.93273167, 14.85478187, 34.7429184 , 35.50029467,\n",
       "       32.89599805, 20.98069467, 16.67849644, 34.24728954, 39.01179205,\n",
       "       21.57169864, 15.71337489, 27.33121768, 18.73350137, 27.27438226,\n",
       "       21.16402252, 26.00459084])"
      ]
     },
     "execution_count": 25,
     "metadata": {},
     "output_type": "execute_result"
    }
   ],
   "source": [
    "y_pred_class"
   ]
  },
  {
   "cell_type": "markdown",
   "metadata": {},
   "source": [
    "### Mean Absolute Error 平均绝对误差\n",
    "- 计算预测值与真实值之间的绝对值之差\n",
    "\n",
    "### Mean Squared Error 均方误差\n",
    "- 计算MSE之前必须去掉所有缺失值\n",
    "![](https://econbrowser.com/wp-content/uploads/2019/07/msemae.png)"
   ]
  },
  {
   "cell_type": "code",
   "execution_count": 26,
   "metadata": {},
   "outputs": [
    {
     "data": {
      "text/plain": [
       "3.57486812612756"
      ]
     },
     "execution_count": 26,
     "metadata": {},
     "output_type": "execute_result"
    }
   ],
   "source": [
    "#MAE\n",
    "metrics.mean_absolute_error(y_test,y_pred_class)"
   ]
  },
  {
   "cell_type": "code",
   "execution_count": 27,
   "metadata": {},
   "outputs": [
    {
     "data": {
      "text/plain": [
       "21.897765396049593"
      ]
     },
     "execution_count": 27,
     "metadata": {},
     "output_type": "execute_result"
    }
   ],
   "source": [
    "#MSE\n",
    "metrics.mean_squared_error(y_test,y_pred_class)"
   ]
  },
  {
   "cell_type": "markdown",
   "metadata": {},
   "source": [
    "### RMSE 均方根误差\n",
    "- RMSE是MSE的平方根，通常比MAE大。其量纲与原始数据量纲相同。\n",
    "- RMSE便于求导，因此通常作为回归模型的评估指标\n",
    "![](https://www.edc.uri.edu/nrs/classes/NRS409509/Lectures/4MapBasics/RMSE.png)"
   ]
  },
  {
   "cell_type": "code",
   "execution_count": 28,
   "metadata": {},
   "outputs": [
    {
     "name": "stdout",
     "output_type": "stream",
     "text": [
      "4.679504823808775\n"
     ]
    }
   ],
   "source": [
    "from math import sqrt\n",
    "print(sqrt(metrics.mean_squared_error(y_test,y_pred_class)))\n",
    "# 最常用"
   ]
  },
  {
   "cell_type": "markdown",
   "metadata": {},
   "source": [
    "### Root Mean Squared Logarithmic Error 均方根对数误差\n",
    "- 惩罚欠预测大于过预测，适用于某些需要欠预测损失更大的场景，如共享单车需求\n",
    "- 在RMSE相同的情况下，预测值比真实值小这种情况的RMSLE比较大，即对于预测值小这种情况惩罚较大\n",
    "- 如果预测的值范围很大，RMSE会被一些大的值主导，导致一个大值的预测错误显著增大RMSE。Log可以稍微解决该问题，减少这种值对与整体误差的判断。RMSE一般对于固定的平均分布的预测值才合理\n",
    "![](https://channabasavagola.github.io/img/RMSLE.jpeg)"
   ]
  },
  {
   "cell_type": "code",
   "execution_count": 29,
   "metadata": {},
   "outputs": [
    {
     "data": {
      "text/plain": [
       "0.04258244728194352"
      ]
     },
     "execution_count": 29,
     "metadata": {},
     "output_type": "execute_result"
    }
   ],
   "source": [
    "metrics.mean_squared_log_error(y_test,y_pred_class)"
   ]
  },
  {
   "cell_type": "markdown",
   "metadata": {},
   "source": [
    "### R-squared R平方（可决系数）\n",
    "- 在分类问题中，我们经常将随机分类器作为基准模型，随机分类器的准确率是0.5\n",
    "- 在回归问题中，我们将输出平均值的回归器作为基准模型\n",
    "- 将一个回归模型的MSE初一基准模型的MSE，就可以计算R平方了\n",
    "- 如果一个回归模型与基准模型一样差，那么R平方是0\n",
    "- 如果一个回归模型完全预测正确，那么R平方是1\n",
    "- 如果一个回归模型比基准模型还差，那么R平方是负数\n",
    "![](https://4.bp.blogspot.com/-wG7IbjTfE6k/XGUvqm7TCVI/AAAAAAAAAZU/vpH1kuKTIooKTcVlnm1EVRCXLVZM9cPNgCLcBGAs/s1600/formula-MAE-MSE-RMSE-RSquared.JPG)"
   ]
  },
  {
   "cell_type": "code",
   "execution_count": 30,
   "metadata": {},
   "outputs": [
    {
     "data": {
      "text/plain": [
       "0.7789410172622848"
      ]
     },
     "execution_count": 30,
     "metadata": {},
     "output_type": "execute_result"
    }
   ],
   "source": [
    "metrics.r2_score(y_test,y_pred_class)"
   ]
  },
  {
   "cell_type": "markdown",
   "metadata": {},
   "source": [
    "### Adjusted R-squared 修正R平方\n",
    "- 在其他变量不变的情况下，引入新变量，总能提高模型准确度，但却是以增加模型复杂度未代价，因此引入修正R平方，相当于给特征的个数加入惩罚项。如无必要，勿增实体。R平方相同时，室友变量个数少的模型更优。\n",
    "![](https://www.graphpad.com/guides/prism/7/curve-fitting/images/reg_adjustedr2equation.png)"
   ]
  },
  {
   "cell_type": "markdown",
   "metadata": {},
   "source": [
    "- RMSE的大小仅仅反映模型预测值与真实值的偏差，不能反映模型真正的好坏，也许一个胡诌的预测值，RSME很小，但瞎猫碰上死耗子不能说明什么\n",
    "- 但如果一个模型的修正R平方极小，那必定不是一个好模型\n",
    "- RMSE的好处在于便于微分求导，也便于比较不同模型的偏差，所以各类数据科学竞赛都经常把RMSE作为默认的评估指标。"
   ]
  },
  {
   "cell_type": "markdown",
   "metadata": {},
   "source": [
    "### 【Linear Regression】"
   ]
  },
  {
   "cell_type": "code",
   "execution_count": 43,
   "metadata": {},
   "outputs": [],
   "source": [
    "X_train1,X_test1,y_train1,y_test1 = train_test_split(X,y,test_size=0.2,random_state=625)"
   ]
  },
  {
   "cell_type": "code",
   "execution_count": 44,
   "metadata": {},
   "outputs": [
    {
     "name": "stdout",
     "output_type": "stream",
     "text": [
      "(379, 13) (379,)\n"
     ]
    }
   ],
   "source": [
    "print(X_train.shape,y_train.shape)"
   ]
  },
  {
   "cell_type": "code",
   "execution_count": 45,
   "metadata": {},
   "outputs": [
    {
     "data": {
      "text/plain": [
       "LinearRegression()"
      ]
     },
     "execution_count": 45,
     "metadata": {},
     "output_type": "execute_result"
    }
   ],
   "source": [
    "lin_reg = LinearRegression()\n",
    "lin_reg.fit(X_train1,y_train1)"
   ]
  },
  {
   "cell_type": "code",
   "execution_count": 46,
   "metadata": {},
   "outputs": [
    {
     "data": {
      "text/plain": [
       "0.7736159871194279"
      ]
     },
     "execution_count": 46,
     "metadata": {},
     "output_type": "execute_result"
    }
   ],
   "source": [
    "lin_reg.score(X_test1,y_test1)"
   ]
  },
  {
   "cell_type": "code",
   "execution_count": 47,
   "metadata": {},
   "outputs": [
    {
     "data": {
      "text/plain": [
       "array([-1.25954343e-01,  4.29717981e-02,  1.23548901e-02,  2.65560050e+00,\n",
       "       -1.93611072e+01,  3.68156335e+00,  1.62019401e-02, -1.42184268e+00,\n",
       "        3.31427216e-01, -1.14970819e-02, -9.56674552e-01,  8.35209944e-03,\n",
       "       -6.01463418e-01])"
      ]
     },
     "execution_count": 47,
     "metadata": {},
     "output_type": "execute_result"
    }
   ],
   "source": [
    "lin_reg.coef_"
   ]
  },
  {
   "cell_type": "code",
   "execution_count": 48,
   "metadata": {},
   "outputs": [
    {
     "data": {
      "text/plain": [
       "[<matplotlib.lines.Line2D at 0x197b776fa48>]"
      ]
     },
     "execution_count": 48,
     "metadata": {},
     "output_type": "execute_result"
    },
    {
     "data": {
      "image/png": "[encoded data removed]",
      "text/plain": [
       "<Figure size 432x288 with 1 Axes>"
      ]
     },
     "metadata": {
      "needs_background": "light"
     },
     "output_type": "display_data"
    }
   ],
   "source": [
    "plt.plot(lin_reg.coef_)"
   ]
  },
  {
   "cell_type": "code",
   "execution_count": 49,
   "metadata": {},
   "outputs": [
    {
     "data": {
      "text/plain": [
       "array([21.78387668, 13.11587181, 15.76784376, 30.700321  , 24.90848738,\n",
       "       17.16842598, 24.77115135, 25.46462965, 22.82812558, 14.61916445,\n",
       "       30.75526711, 36.7337976 , 31.02112006, 31.31021847, 25.13025321,\n",
       "       23.71878622, 17.75857924, 12.13994381, 15.7715072 , 23.75806379,\n",
       "       21.20701838, 20.21888504,  2.40441355, 10.74788677, 15.56713935,\n",
       "       33.84779947, 20.30182716, 22.942973  , 19.78675877, 21.74606745,\n",
       "       16.91650203, 19.92067306, 31.96379771, 27.50248316, 25.97453076,\n",
       "       11.76442005, 27.69921011, 19.75616258, 18.89548074, 23.39763054,\n",
       "       34.52007251, 20.95398146, 27.01185934, 33.92213247, 17.45947165,\n",
       "       -5.7739956 , 28.54304163, 24.89121179, 15.26852603, 21.40889997,\n",
       "       24.2131153 , 19.77328977, 12.72041204, 16.05913256, 20.95899498,\n",
       "       35.13962801, 16.86556001, 30.36371001, 27.82832479, 27.98266667,\n",
       "       13.38279751,  7.2232173 , 13.21683437, 34.36870202, 20.41019515,\n",
       "       29.20131202, -0.53732815, 42.29592977, 20.46739114, 36.23993216,\n",
       "       18.96167038, 34.1501053 , 14.22092483, 22.33996308, 12.24523033,\n",
       "       18.37603187, 27.1489897 , 32.43282613, 20.328845  , 13.6689787 ,\n",
       "       24.0540509 , 11.69904426, 15.01751538, 20.6474441 , 24.56374222,\n",
       "       19.26193409, 29.43898773,  6.97458319, 18.58052882, 16.40462967,\n",
       "       14.16051635, 25.06100646, 20.75956404, 19.41195328, 33.0406911 ,\n",
       "       27.18846967, 36.73714046, 13.32604844, 13.17530981,  5.25671114,\n",
       "       23.96288663, 34.6215227 ])"
      ]
     },
     "execution_count": 49,
     "metadata": {},
     "output_type": "execute_result"
    }
   ],
   "source": [
    "# 预测房价\n",
    "lin_reg.predict(X_test1)"
   ]
  },
  {
   "cell_type": "code",
   "execution_count": 51,
   "metadata": {},
   "outputs": [
    {
     "data": {
      "text/plain": [
       "45     19.3\n",
       "435    13.4\n",
       "18     20.2\n",
       "305    28.4\n",
       "56     24.7\n",
       "       ... \n",
       "245    18.5\n",
       "382    11.3\n",
       "398     5.0\n",
       "35     18.9\n",
       "277    33.1\n",
       "Name: MEDV, Length: 102, dtype: float64"
      ]
     },
     "execution_count": 51,
     "metadata": {},
     "output_type": "execute_result"
    }
   ],
   "source": [
    "#真实房价\n",
    "y_test1"
   ]
  },
  {
   "cell_type": "code",
   "execution_count": 52,
   "metadata": {},
   "outputs": [
    {
     "data": {
      "text/plain": [
       "307    4.694404\n",
       "343    3.928325\n",
       "47     1.256634\n",
       "67    -1.036052\n",
       "362   -1.801106\n",
       "         ...   \n",
       "41     0.945957\n",
       "361   -0.661242\n",
       "289    1.750089\n",
       "498   -0.161022\n",
       "293    1.497074\n",
       "Name: MEDV, Length: 127, dtype: float64"
      ]
     },
     "execution_count": 52,
     "metadata": {},
     "output_type": "execute_result"
    }
   ],
   "source": [
    "deviation = lin_reg.predict(X_test) - y_test\n",
    "deviation"
   ]
  },
  {
   "cell_type": "code",
   "execution_count": 54,
   "metadata": {},
   "outputs": [
    {
     "data": {
      "text/plain": [
       "3.3791730572999277"
      ]
     },
     "execution_count": 54,
     "metadata": {},
     "output_type": "execute_result"
    }
   ],
   "source": [
    "RMSE = np.sum(np.sqrt(deviation*deviation))/len(y_test)\n",
    "RMSE"
   ]
  },
  {
   "cell_type": "code",
   "execution_count": 55,
   "metadata": {},
   "outputs": [],
   "source": [
    "result= {'prediction':lin_reg.predict(X_test1)}"
   ]
  },
  {
   "cell_type": "code",
   "execution_count": 56,
   "metadata": {},
   "outputs": [
    {
     "data": {
      "text/html": [
       "<div>\n",
       "<style scoped>\n",
       "    .dataframe tbody tr th:only-of-type {\n",
       "        vertical-align: middle;\n",
       "    }\n",
       "\n",
       "    .dataframe tbody tr th {\n",
       "        vertical-align: top;\n",
       "    }\n",
       "\n",
       "    .dataframe thead th {\n",
       "        text-align: right;\n",
       "    }\n",
       "</style>\n",
       "<table border=\"1\" class=\"dataframe\">\n",
       "  <thead>\n",
       "    <tr style=\"text-align: right;\">\n",
       "      <th></th>\n",
       "      <th>prediction</th>\n",
       "    </tr>\n",
       "  </thead>\n",
       "  <tbody>\n",
       "    <tr>\n",
       "      <th>0</th>\n",
       "      <td>21.783877</td>\n",
       "    </tr>\n",
       "    <tr>\n",
       "      <th>1</th>\n",
       "      <td>13.115872</td>\n",
       "    </tr>\n",
       "    <tr>\n",
       "      <th>2</th>\n",
       "      <td>15.767844</td>\n",
       "    </tr>\n",
       "    <tr>\n",
       "      <th>3</th>\n",
       "      <td>30.700321</td>\n",
       "    </tr>\n",
       "    <tr>\n",
       "      <th>4</th>\n",
       "      <td>24.908487</td>\n",
       "    </tr>\n",
       "  </tbody>\n",
       "</table>\n",
       "</div>"
      ],
      "text/plain": [
       "   prediction\n",
       "0   21.783877\n",
       "1   13.115872\n",
       "2   15.767844\n",
       "3   30.700321\n",
       "4   24.908487"
      ]
     },
     "execution_count": 56,
     "metadata": {},
     "output_type": "execute_result"
    }
   ],
   "source": [
    "result_file=pd.DataFrame(result)\n",
    "result_file.head()"
   ]
  },
  {
   "cell_type": "code",
   "execution_count": 57,
   "metadata": {},
   "outputs": [],
   "source": [
    "result_file.to_csv('Boston_simpleLR.csv')"
   ]
  },
  {
   "cell_type": "code",
   "execution_count": null,
   "metadata": {},
   "outputs": [],
   "source": []
  }
 ],
 "metadata": {
  "kernelspec": {
   "display_name": "Python 3",
   "language": "python",
   "name": "python3"
  },
  "language_info": {
   "codemirror_mode": {
    "name": "ipython",
    "version": 3
   },
   "file_extension": ".py",
   "mimetype": "text/x-python",
   "name": "python",
   "nbconvert_exporter": "python",
   "pygments_lexer": "ipython3",
   "version": "3.7.9"
  }
 },
 "nbformat": 4,
 "nbformat_minor": 4
}
